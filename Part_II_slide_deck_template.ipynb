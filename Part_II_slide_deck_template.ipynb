{
 "cells": [
  {
   "cell_type": "markdown",
   "metadata": {
    "slideshow": {
     "slide_type": "slide"
    }
   },
   "source": [
    "# Influence of Loan features on BorrowerAPR\n",
    "## by Nonso Udechukwu"
   ]
  },
  {
   "cell_type": "markdown",
   "metadata": {
    "slideshow": {
     "slide_type": "slide"
    }
   },
   "source": [
    "## Investigation Overview\n",
    "\n",
    "For this investigation, I investigate features that influence BorrowerAPR, the total fees a borrower pays annually on a loan. Main features assessed were ProsperRating, Homeownership, StatedMonthlyIncome, and Loan Term.\n",
    "\n",
    "\n",
    "## Dataset Overview\n",
    "\n",
    "This dataset is from Prosper, a top marketplace lending platform in the United States. It contains 113,937 loan records with 81 features, including loan data (e.g. loan amount, borrower rate, current loan status), borrower data (e.g. borrower income, employment status, and credit history), and credit risk data (e.g. ProsperScore). I selected a subset of the dataset, using only 20 features out of the original 81. Due to missing data and other inconsistencies, the final subset dataframe contained 65% (76754) of the listings on the original dataset."
   ]
  },
  {
   "cell_type": "code",
   "execution_count": 1,
   "metadata": {
    "slideshow": {
     "slide_type": "skip"
    }
   },
   "outputs": [],
   "source": [
    "# import all packages and set plots to be embedded inline\n",
    "import numpy as np\n",
    "import pandas as pd\n",
    "import matplotlib.pyplot as plt\n",
    "import seaborn as sns\n",
    "\n",
    "%matplotlib inline\n",
    "\n",
    "# suppress warnings from final output\n",
    "import warnings\n",
    "warnings.simplefilter(\"ignore\")"
   ]
  },
  {
   "cell_type": "code",
   "execution_count": 2,
   "metadata": {
    "slideshow": {
     "slide_type": "skip"
    }
   },
   "outputs": [
    {
     "data": {
      "text/html": [
       "<div>\n",
       "<style scoped>\n",
       "    .dataframe tbody tr th:only-of-type {\n",
       "        vertical-align: middle;\n",
       "    }\n",
       "\n",
       "    .dataframe tbody tr th {\n",
       "        vertical-align: top;\n",
       "    }\n",
       "\n",
       "    .dataframe thead th {\n",
       "        text-align: right;\n",
       "    }\n",
       "</style>\n",
       "<table border=\"1\" class=\"dataframe\">\n",
       "  <thead>\n",
       "    <tr style=\"text-align: right;\">\n",
       "      <th></th>\n",
       "      <th>ListingNumber</th>\n",
       "      <th>ListingCategory</th>\n",
       "      <th>LoanOriginalAmount</th>\n",
       "      <th>Term</th>\n",
       "      <th>LoanStatus</th>\n",
       "      <th>IncomeRange</th>\n",
       "      <th>StatedMonthlyIncome</th>\n",
       "      <th>MonthlyLoanPayment</th>\n",
       "      <th>ProsperRating</th>\n",
       "      <th>BorrowerRate</th>\n",
       "      <th>BorrowerAPR</th>\n",
       "      <th>EmploymentStatus</th>\n",
       "      <th>Occupation</th>\n",
       "      <th>EmploymentStatusDuration</th>\n",
       "      <th>DebtToIncomeRatio</th>\n",
       "      <th>AvailableBankcardCredit</th>\n",
       "      <th>IsBorrowerHomeowner</th>\n",
       "      <th>CurrentDelinquencies</th>\n",
       "      <th>DelinquenciesLast7Years</th>\n",
       "      <th>LoanOriginationYear</th>\n",
       "    </tr>\n",
       "  </thead>\n",
       "  <tbody>\n",
       "    <tr>\n",
       "      <th>1</th>\n",
       "      <td>1209647</td>\n",
       "      <td>2</td>\n",
       "      <td>10000</td>\n",
       "      <td>36</td>\n",
       "      <td>Current</td>\n",
       "      <td>$50,000-74,999</td>\n",
       "      <td>6125.0</td>\n",
       "      <td>318.93</td>\n",
       "      <td>A</td>\n",
       "      <td>0.0920</td>\n",
       "      <td>0.12016</td>\n",
       "      <td>Employed</td>\n",
       "      <td>Professional</td>\n",
       "      <td>44.0</td>\n",
       "      <td>0.18</td>\n",
       "      <td>10266.0</td>\n",
       "      <td>Not Homeowner</td>\n",
       "      <td>0.0</td>\n",
       "      <td>0.0</td>\n",
       "      <td>2014</td>\n",
       "    </tr>\n",
       "    <tr>\n",
       "      <th>3</th>\n",
       "      <td>658116</td>\n",
       "      <td>16</td>\n",
       "      <td>10000</td>\n",
       "      <td>36</td>\n",
       "      <td>Current</td>\n",
       "      <td>$25,000-49,999</td>\n",
       "      <td>2875.0</td>\n",
       "      <td>321.45</td>\n",
       "      <td>A</td>\n",
       "      <td>0.0974</td>\n",
       "      <td>0.12528</td>\n",
       "      <td>Employed</td>\n",
       "      <td>Skilled Labor</td>\n",
       "      <td>113.0</td>\n",
       "      <td>0.15</td>\n",
       "      <td>30754.0</td>\n",
       "      <td>Homeowner</td>\n",
       "      <td>4.0</td>\n",
       "      <td>14.0</td>\n",
       "      <td>2012</td>\n",
       "    </tr>\n",
       "    <tr>\n",
       "      <th>4</th>\n",
       "      <td>909464</td>\n",
       "      <td>2</td>\n",
       "      <td>15000</td>\n",
       "      <td>36</td>\n",
       "      <td>Current</td>\n",
       "      <td>$100,000+</td>\n",
       "      <td>9583.0</td>\n",
       "      <td>563.97</td>\n",
       "      <td>D</td>\n",
       "      <td>0.2085</td>\n",
       "      <td>0.24614</td>\n",
       "      <td>Employed</td>\n",
       "      <td>Executive</td>\n",
       "      <td>44.0</td>\n",
       "      <td>0.26</td>\n",
       "      <td>695.0</td>\n",
       "      <td>Homeowner</td>\n",
       "      <td>0.0</td>\n",
       "      <td>0.0</td>\n",
       "      <td>2013</td>\n",
       "    </tr>\n",
       "    <tr>\n",
       "      <th>5</th>\n",
       "      <td>1074836</td>\n",
       "      <td>1</td>\n",
       "      <td>15000</td>\n",
       "      <td>60</td>\n",
       "      <td>Current</td>\n",
       "      <td>$100,000+</td>\n",
       "      <td>8333.0</td>\n",
       "      <td>342.37</td>\n",
       "      <td>B</td>\n",
       "      <td>0.1314</td>\n",
       "      <td>0.15425</td>\n",
       "      <td>Employed</td>\n",
       "      <td>Professional</td>\n",
       "      <td>82.0</td>\n",
       "      <td>0.36</td>\n",
       "      <td>86509.0</td>\n",
       "      <td>Homeowner</td>\n",
       "      <td>0.0</td>\n",
       "      <td>0.0</td>\n",
       "      <td>2013</td>\n",
       "    </tr>\n",
       "    <tr>\n",
       "      <th>6</th>\n",
       "      <td>750899</td>\n",
       "      <td>1</td>\n",
       "      <td>3000</td>\n",
       "      <td>36</td>\n",
       "      <td>Current</td>\n",
       "      <td>$25,000-49,999</td>\n",
       "      <td>2083.0</td>\n",
       "      <td>122.67</td>\n",
       "      <td>E</td>\n",
       "      <td>0.2712</td>\n",
       "      <td>0.31032</td>\n",
       "      <td>Employed</td>\n",
       "      <td>Sales - Retail</td>\n",
       "      <td>172.0</td>\n",
       "      <td>0.27</td>\n",
       "      <td>1929.0</td>\n",
       "      <td>Not Homeowner</td>\n",
       "      <td>0.0</td>\n",
       "      <td>0.0</td>\n",
       "      <td>2013</td>\n",
       "    </tr>\n",
       "  </tbody>\n",
       "</table>\n",
       "</div>"
      ],
      "text/plain": [
       "  ListingNumber ListingCategory  LoanOriginalAmount Term LoanStatus  \\\n",
       "1       1209647               2               10000   36    Current   \n",
       "3        658116              16               10000   36    Current   \n",
       "4        909464               2               15000   36    Current   \n",
       "5       1074836               1               15000   60    Current   \n",
       "6        750899               1                3000   36    Current   \n",
       "\n",
       "      IncomeRange  StatedMonthlyIncome  MonthlyLoanPayment ProsperRating  \\\n",
       "1  $50,000-74,999               6125.0              318.93             A   \n",
       "3  $25,000-49,999               2875.0              321.45             A   \n",
       "4       $100,000+               9583.0              563.97             D   \n",
       "5       $100,000+               8333.0              342.37             B   \n",
       "6  $25,000-49,999               2083.0              122.67             E   \n",
       "\n",
       "   BorrowerRate  BorrowerAPR EmploymentStatus      Occupation  \\\n",
       "1        0.0920      0.12016         Employed    Professional   \n",
       "3        0.0974      0.12528         Employed   Skilled Labor   \n",
       "4        0.2085      0.24614         Employed       Executive   \n",
       "5        0.1314      0.15425         Employed    Professional   \n",
       "6        0.2712      0.31032         Employed  Sales - Retail   \n",
       "\n",
       "   EmploymentStatusDuration  DebtToIncomeRatio  AvailableBankcardCredit  \\\n",
       "1                      44.0               0.18                  10266.0   \n",
       "3                     113.0               0.15                  30754.0   \n",
       "4                      44.0               0.26                    695.0   \n",
       "5                      82.0               0.36                  86509.0   \n",
       "6                     172.0               0.27                   1929.0   \n",
       "\n",
       "  IsBorrowerHomeowner  CurrentDelinquencies  DelinquenciesLast7Years  \\\n",
       "1       Not Homeowner                   0.0                      0.0   \n",
       "3           Homeowner                   4.0                     14.0   \n",
       "4           Homeowner                   0.0                      0.0   \n",
       "5           Homeowner                   0.0                      0.0   \n",
       "6       Not Homeowner                   0.0                      0.0   \n",
       "\n",
       "   LoanOriginationYear  \n",
       "1                 2014  \n",
       "3                 2012  \n",
       "4                 2013  \n",
       "5                 2013  \n",
       "6                 2013  "
      ]
     },
     "execution_count": 2,
     "metadata": {},
     "output_type": "execute_result"
    }
   ],
   "source": [
    "# Load the subsetProsper Loan data into a pandas dataframe\n",
    "loan_df = pd.read_pickle(\"ProsperLoanSubset.pkl\")\n",
    "\n",
    "\n",
    "# Set color for all univariate plots\n",
    "colors = sns.color_palette('Paired')\n",
    "\n",
    "# Print the head of the data set\n",
    "loan_df.head()"
   ]
  },
  {
   "cell_type": "markdown",
   "metadata": {
    "slideshow": {
     "slide_type": "slide"
    }
   },
   "source": [
    "## Distribution of BorrowerAPR\n",
    "\n",
    "BorrowerAPR appears multimodal, with peaks at 0.13, 0.2, 0.3, and a very sharp peak at 0.35. Most listings have BorrowAPR below 0.40"
   ]
  },
  {
   "cell_type": "code",
   "execution_count": 3,
   "metadata": {
    "slideshow": {
     "slide_type": "subslide"
    }
   },
   "outputs": [
    {
     "data": {
      "image/png": "[encoded data removed]",
      "text/plain": [
       "<Figure size 864x360 with 1 Axes>"
      ]
     },
     "metadata": {
      "needs_background": "light"
     },
     "output_type": "display_data"
    }
   ],
   "source": [
    "plt.figure(figsize=[12, 5])\n",
    "\n",
    "g = sns.histplot(loan_df['BorrowerAPR'], color=colors[1]);\n",
    "g.set_title('BorrowerAPR distribution');\n",
    "plt.show()"
   ]
  },
  {
   "cell_type": "markdown",
   "metadata": {
    "collapsed": true,
    "slideshow": {
     "slide_type": "slide"
    }
   },
   "source": [
    "## BorrowerAPR vs Prosper Rating\n",
    "\n",
    "Prosper Rating appears strongly negatively correlated with BorrowerAPR. The better a borrower's Prosper Rating, the lesser the cost of the loan."
   ]
  },
  {
   "cell_type": "code",
   "execution_count": 4,
   "metadata": {
    "slideshow": {
     "slide_type": "subslide"
    }
   },
   "outputs": [
    {
     "data": {
      "image/png": "[encoded data removed]",
      "text/plain": [
       "<Figure size 1152x576 with 1 Axes>"
      ]
     },
     "metadata": {
      "needs_background": "light"
     },
     "output_type": "display_data"
    }
   ],
   "source": [
    "#sns.boxplot(data=loan_sub, x='ProsperRating (Alpha)', y='BorrowerAPR', color=default_color)\n",
    "#plt.xlabel('Prosper Rating')\n",
    "#plt.ylabel('Borrower APR')\n",
    "#plt.title('Borrower APR vs. Prosper Rating');\n",
    "\n",
    "g = sns.catplot(data=loan_df, x='ProsperRating', y='BorrowerAPR', color=colors[1], kind='box', height=8,\n",
    "                 aspect = 10/5)\n",
    "g.fig.subplots_adjust(top=0.9) # adjust the figure\n",
    "g.fig.suptitle('Relationship between BorrowerAPR and Prosper Rating', fontsize=15);"
   ]
  },
  {
   "cell_type": "markdown",
   "metadata": {
    "slideshow": {
     "slide_type": "slide"
    }
   },
   "source": [
    "## Compare BorrowerAPR across Prosper Rating and Loan Terms\n",
    "Borrowers are likelier to pay more BorrowerAPR for short-term loans than longer-term loans UNLESS they are rated B and above. In which case, longer-term loans become costlier than shorter-term loans. "
   ]
  },
  {
   "cell_type": "code",
   "execution_count": 8,
   "metadata": {
    "slideshow": {
     "slide_type": "subslide"
    }
   },
   "outputs": [
    {
     "data": {
      "image/png": "[encoded data removed]",
      "text/plain": [
       "<Figure size 864x432 with 1 Axes>"
      ]
     },
     "metadata": {
      "needs_background": "light"
     },
     "output_type": "display_data"
    }
   ],
   "source": [
    "plt.figure(figsize=[12, 6])\n",
    "\n",
    "g = sns.pointplot(data=loan_df, x='ProsperRating', y='BorrowerAPR', hue='Term', linestyles='',\n",
    "              palette= 'PuBu', dodge=0.4, scale=0.8)\n",
    "\n",
    "# Annotate the changes in BorrowerAPR for higher-rated borrowers across loan terms\n",
    "plt.axvspan(xmin=3.5, xmax=6.5, ymax=0.48, alpha=0.1)\n",
    "plt.text(x=4.6, y=0.16, fontsize=12, alpha=0.7,\n",
    "         s='For B-to-AA rated borrowers,\\nBorrowerAPR increases\\nas loan term increases')\n",
    "\n",
    "g.set_title('Average BorrowerAPR across Prosper Rating and Loan Term');"
   ]
  },
  {
   "cell_type": "code",
   "execution_count": null,
   "metadata": {
    "slideshow": {
     "slide_type": "skip"
    }
   },
   "outputs": [],
   "source": [
    "# Use this command if you are running this file in local\n",
    "!jupyter nbconvert <Part_II_Filename>.ipynb --to slides --post serve --no-input --no-prompt"
   ]
  }
 ],
 "metadata": {
  "celltoolbar": "Slideshow",
  "kernelspec": {
   "display_name": "Python 3",
   "language": "python",
   "name": "python3"
  },
  "language_info": {
   "codemirror_mode": {
    "name": "ipython",
    "version": 3
   },
   "file_extension": ".py",
   "mimetype": "text/x-python",
   "name": "python",
   "nbconvert_exporter": "python",
   "pygments_lexer": "ipython3",
   "version": "3.6.3"
  }
 },
 "nbformat": 4,
 "nbformat_minor": 2
}
